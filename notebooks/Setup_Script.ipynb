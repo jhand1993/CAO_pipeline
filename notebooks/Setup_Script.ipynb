{
 "cells": [
  {
   "cell_type": "markdown",
   "metadata": {},
   "source": [
    "Run the following script on an Apple OS X computer to use SExtractor, Astrometry.net and SWarp.  \n",
    "Make sure you have administrator privileges.  This is a multi-part script, and may require you to \n",
    "go to local directories to delete files manually.\n",
    "\n",
    "\n",
    "####Homebrew\n",
    "\n",
    "Via the terminal:\n",
    "\n",
    "    ruby -e \"$(curl -fsSL https://raw.githubusercontent.com/Homebrew/install/master/install)\"\n",
    "\n",
    "NOTE: You may need to delete the /usr/local/ folder to complete this install.\n",
    "\n",
    "    brew doctor\n",
    "\n",
    "You will likely need to install updates via the Appstore for both Command Line Tools and Xcode.\n",
    "IMPORTANT: If there are any files that are listed as conflicting with Homebrew, delete them all.  You can do this via the terminal or in Finder.\n",
    "\n",
    "####Pip\n",
    "\n",
    "Via the terminal:\n",
    "\n",
    "    sudo easy_install pip\n",
    "\n",
    "####Dependencies and Applications\n",
    "\n",
    "cfitsio:\n",
    "    \n",
    "    brew install cfitsio\n",
    "\n",
    "NOTE: You cannot install applications with Hombrew from root.\n",
    "\n",
    "pyfits:\n",
    "\n",
    "    sudo pip install pyfits\n",
    "\n",
    "netpbm:\n",
    "\n",
    "    brew install netpbm\n",
    "    \n",
    "astrometry.net 0.50:\n",
    "   \n",
    "    brew tap Homebrew/homebrew-science\n",
    "    brew install astrometry-net\n",
    "\n",
    "SExtractor:\n",
    "\n",
    "    brew install sextractor\n",
    "  \n",
    "SWarp:\n",
    "    \n",
    "    wget http://www.astromatic.net/download/swarp/swarp-2.38.0.tar.gz\n",
    "    tar xjf swarp-2.38.0.tar.gz\n",
    "    cd ~/swarp-2.38.0\n",
    "    ./configure\n",
    "    make\n",
    "    make install\n"
   ]
  }
 ],
 "metadata": {
  "kernelspec": {
   "display_name": "Python 3",
   "language": "python",
   "name": "python3"
  },
  "language_info": {
   "codemirror_mode": {
    "name": "ipython",
    "version": 3.0
   },
   "file_extension": ".py",
   "mimetype": "text/x-python",
   "name": "python",
   "nbconvert_exporter": "python",
   "pygments_lexer": "ipython3",
   "version": "3.4.3"
  }
 },
 "nbformat": 4,
 "nbformat_minor": 0
}