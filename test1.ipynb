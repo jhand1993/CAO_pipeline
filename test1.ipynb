{
 "cells": [
  {
   "cell_type": "code",
   "execution_count": 4,
   "metadata": {
    "collapsed": false,
    "scrolled": false
   },
   "outputs": [
    {
     "name": "stdout",
     "output_type": "stream",
     "text": [
      "Enter Directory: /\n",
      "[]\n"
     ]
    }
   ],
   "source": [
    "import os\n",
    "import glob\n",
    "import numpy\n",
    "\n",
    "data_files = []\n",
    "\n",
    "def check_files(user_input):   \n",
    "    \"\"\"\n",
    "    Checks to make sure given directory is a valid directory.  \n",
    "    If directory exists, returns list of .fits files.\n",
    "    \"\"\"\n",
    "    if os.path.exists(user_input) == True:\n",
    "        os.chdir(directory)\n",
    "        data_files = glob.glob(\"*.fit*\")\n",
    "        return data_files\n",
    "    else:\n",
    "        print(\"Invalid directory. Please try again.\") \n",
    "        return False   \n",
    "\n",
    "while True:\n",
    "    directory = input(\"Enter Directory: \")   \n",
    "    fits_files = check_files(directory)\n",
    "    if fits_files != False:\n",
    "        break\n",
    "\n",
    "print(fits_files)"
   ]
  },
  {
   "cell_type": "code",
   "execution_count": 24,
   "metadata": {
    "collapsed": false
   },
   "outputs": [
    {
     "name": "stdout",
     "output_type": "stream",
     "text": [
      "[b'PKS0048-097' b'PKS0113-118' b'DA55' b'3C66A' b'AO0235+164' b'BQCam'\n",
      " b'GKPer' b'LSV+44_17' b'V518Per' b'J06074+2205' b'PKS0528+134' b'V1055Ori'\n",
      " b'V616Mon' b'MXB0656-072' b'TXS0716+332' b'B30650+453' b'TXS0820+560'\n",
      " b'OJ425' b'OJ287' b'OJ49' b'PKS0907+022' b'PMN0948+002' b'PMN1016+051'\n",
      " b'PKS1127-14' b'Mrk421' b'KVUMa' b'B21215+30' b'WCom' b'B21308+32'\n",
      " b'3C273' b'3C279' b'PKS1329-049' b'PKS1352-104' b'J1357.2-0933'\n",
      " b'PKS1510-089' b'PKS1502+106' b'PKS1551+130' b'TXS1520+319' b'4C+38.41'\n",
      " b'Mrk501' b'OT355' b'TXS1846+322' b'V406Vul' b'OT081' b'J1753.5-0127'\n",
      " b'SerX-1' b'1846-031' b'J1855-026' b'4U1916-053' b'AqlX-1' b'J1901+014'\n",
      " b'J1856+053' b'SS433' b'J1908+094' b'4U1907+09' b'J19140+0951'\n",
      " b'4U1957+115' b'PKS2023-07' b'J1946+274' b'J1955+261' b'2000+251'\n",
      " b'V404Cyg' b'J2012+381' b'CygX-3' b'J2103+45' b'V490Cep' b'SSCyg' b'BLLac'\n",
      " b'CygX-2' b'PKS2144+092' b'OX169' b'PKS2201+171' b'CTA102' b'3C454.3'\n",
      " b'PKS2325+093' b'PHL5225' b'PMN2345-155']\n",
      "[b'PKS0048-097' b'PKS0113-118' b'DA55' b'3C66A' b'AO0235+164' b'BQCam'\n",
      " b'GKPer' b'LSV+44_17' b'V518Per' b'J06074+2205' b'PKS0528+134' b'V1055Ori'\n",
      " b'V616Mon' b'MXB0656-072' b'TXS0716+332' b'B30650+453' b'TXS0820+560'\n",
      " b'OJ425' b'OJ287' b'OJ49' b'PKS0907+022' b'PMN0948+002' b'PMN1016+051'\n",
      " b'PKS1127-14' b'Mrk421' b'KVUMa' b'B21215+30' b'WCom' b'B21308+32'\n",
      " b'3C273' b'3C279' b'PKS1329-049' b'PKS1352-104' b'J1357.2-0933'\n",
      " b'PKS1510-089' b'PKS1502+106' b'PKS1551+130' b'TXS1520+319' b'4C+38.41'\n",
      " b'Mrk501' b'OT355' b'TXS1846+322' b'V406Vul' b'OT081' b'J1753.5-0127'\n",
      " b'SerX-1' b'1846-031' b'J1855-026' b'4U1916-053' b'AqlX-1' b'J1901+014'\n",
      " b'J1856+053' b'SS433' b'J1908+094' b'4U1907+09' b'J19140+0951'\n",
      " b'4U1957+115' b'PKS2023-07' b'J1946+274' b'J1955+261' b'2000+251'\n",
      " b'V404Cyg' b'J2012+381' b'CygX-3' b'J2103+45' b'V490Cep' b'SSCyg' b'BLLac'\n",
      " b'CygX-2' b'PKS2144+092' b'OX169' b'PKS2201+171' b'CTA102' b'3C454.3'\n",
      " b'PKS2325+093' b'PHL5225' b'PMN2345-155']\n",
      "{b'J1908+094': b'19.1479', b'SSCyg': b'21.7119', b'J1946+274': b'19.7609', b'3C454.3': b'22.8994', b'J2012+381': b'20.2105', b'PKS2201+171': b'22.0575', b'AO0235+164': b'2.6441', b'WCom': b'12.3588', b'PKS2144+092': b'21.7861', b'J1901+014': b'19.0281', b'V404Cyg': b'20.4011', b'TXS1520+319': b'15.3702', b'CTA102': b'22.5434', b'PKS0528+134': b'5.5157', b'AqlX-1': b'19.1886', b'OJ425': b'8.3044', b'J1856+053': b'18.9442', b'J1357.2-0933': b'13.9532', b'TXS0716+332': b'7.3221', b'PMN0948+002': b'9.8159', b'Mrk421': b'11.0742', b'J1955+261': b'19.9195', b'1846-031': b'18.8214', b'3C279': b'12.9364', b'BLLac': b'22.0454', b'CygX-2': b'21.7448', b'PKS2325+093': b'23.4593', b'PKS1502+106': b'15.0736', b'CygX-3': b'20.5405', b'B21215+30': b'12.3016', b'V1055Ori': b'6.2854', b'2000+251': b'20.0473', b'B21308+32': b'13.1746', b'OT081': b'17.8591', b'TXS1846+322': b'18.8061', b'J1753.5-0127': b'17.8912', b'4C+38.41': b'16.5876', b'PKS1127-14': b'11.5020', b'KVUMa': b'11.3030', b'PKS1510-089': b'15.2140', b'PKS1352-104': b'13.9129', b'Mrk501': b'16.8978', b'PKS0048-097': b'0.8448', b'J2103+45': b'21.0593', b'SS433': b'19.1971', b'4U1957+115': b'19.9900', b'OJ49': b'8.5303', b'OX169': b'21.7266', b'PKS2023-07': b'20.4280', b'V616Mon': b'6.3790', b'LSV+44_17': b'4.6831', b'PKS1551+130': b'15.8924', b'J19140+0951': b'19.2345', b'4U1907+09': b'19.1606', b'PKS0113-118': b'1.2701', b'J06074+2205': b'6.1241', b'V518Per': b'4.3620', b'3C66A': b'2.3777', b'PMN2345-155': b'23.7534', b'MXB0656-072': b'6.9715', b'SerX-1': b'18.6660', b'BQCam': b'3.5833', b'TXS0820+560': b'8.4131', b'PHL5225': b'22.4945', b'3C273': b'12.4852', b'OT355': b'17.5724', b'OJ287': b'8.9136', b'PKS1329-049': b'13.5346', b'B30650+453': b'6.9066', b'PMN1016+051': b'10.2675', b'V406Vul': b'18.9782', b'PKS0907+022': b'9.1611', b'J1855-026': b'18.9251', b'4U1916-053': b'19.3133', b'DA55': b'1.6163', b'GKPer': b'3.5200', b'V490Cep': b'21.6585'}\n",
      "{b'J1908+094': b'9.3842', b'SSCyg': b'43.5861', b'J1946+274': b'27.3654', b'3C454.3': b'16.1482', b'J2012+381': b'38.1836', b'PKS2201+171': b'17.4301', b'AO0235+164': b'16.6165', b'WCom': b'28.2329', b'PKS2144+092': b'9.4963', b'J1901+014': b'1.4406', b'V404Cyg': b'33.8672', b'TXS1520+319': b'31.7453', b'CTA102': b'11.7308', b'PKS0528+134': b'13.5319', b'AqlX-1': b'0.5976', b'OJ425': b'42.3794', b'J1856+053': b'5.3304', b'J1357.2-0933': b'-9.5541', b'TXS0716+332': b'33.1194', b'PMN0948+002': b'0.3739', b'Mrk421': b'38.2089', b'J1955+261': b'26.2375', b'1846-031': b'-3.0608', b'3C279': b'-5.7893', b'BLLac': b'42.2778', b'CygX-2': b'38.3214', b'PKS2325+093': b'9.6694', b'PKS1502+106': b'10.4942', b'CygX-3': b'40.9578', b'B21215+30': b'30.1062', b'V1055Ori': b'9.1371', b'2000+251': b'25.2400', b'B21308+32': b'32.3458', b'OT081': b'9.6502', b'TXS1846+322': b'32.3174', b'J1753.5-0127': b'-1.4547', b'4C+38.41': b'38.1346', b'PKS1127-14': b'-14.8243', b'KVUMa': b'48.0368', b'PKS1510-089': b'-9.1000', b'PKS1352-104': b'-10.6841', b'Mrk501': b'39.7601', b'PKS0048-097': b'-9.4848', b'J2103+45': b'45.7600', b'SS433': b'4.9827', b'4U1957+115': b'11.7083', b'OJ49': b'4.4942', b'OX169': b'17.7301', b'PKS2023-07': b'-7.5979', b'V616Mon': b'-0.3456', b'LSV+44_17': b'44.5304', b'PKS1551+130': b'12.9477', b'J19140+0951': b'9.8827', b'4U1907+09': b'9.8303', b'PKS0113-118': b'-11.6043', b'J06074+2205': b'22.0966', b'V518Per': b'32.9082', b'3C66A': b'43.0355', b'PMN2345-155': b'-15.9188', b'MXB0656-072': b'-7.2098', b'SerX-1': b'5.0363', b'BQCam': b'53.1732', b'TXS0820+560': b'55.8786', b'PHL5225': b'-8.5485', b'3C273': b'2.0524', b'OT355': b'38.9643', b'OJ287': b'20.1085', b'PKS1329-049': b'-5.1620', b'B30650+453': b'45.2400', b'PMN1016+051': b'5.2172', b'V406Vul': b'22.6605', b'PKS0907+022': b'2.0015', b'J1855-026': b'-2.6046', b'4U1916-053': b'-5.2386', b'DA55': b'47.8581', b'GKPer': b'43.9043', b'V490Cep': b'56.9862'}\n"
     ]
    }
   ],
   "source": [
    "target_data = numpy.loadtxt(fname='/Users/jaredhand/Documents/Automation Project/Automation_Project/target_data.txt',\n",
    "                            dtype=bytes,\n",
    "                            delimiter=',')\n",
    "\n",
    "def byte_to_str(list_input):\n",
    "    for i in list_input:\n",
    "        i.decode('utf-8')\n",
    "    return list_input\n",
    "\n",
    "target_name = target_data[:,0]\n",
    "target_RA = target_data[:,1]\n",
    "target_dec = target_data[:,2]\n",
    "\n",
    "print(target_name)\n",
    "print(byte_to_str(target_name))\n",
    "\n",
    "def target_dict(name_list, val_list):\n",
    "    \"\"\"\n",
    "    Takes list of names and list of values and returns a dictionary with with name_list as\n",
    "    dictionary key.\n",
    "    \"\"\"\n",
    "    result = dict(zip(name_list, val_list))\n",
    "    return result\n",
    "\n",
    "RA_dict = target_dict(target_name, target_RA)\n",
    "print(RA_dict)\n",
    "dec_dict = target_dict(target_name, target_dec)\n",
    "print(dec_dict)"
   ]
  },
  {
   "cell_type": "code",
   "execution_count": 13,
   "metadata": {
    "collapsed": false
   },
   "outputs": [
    {
     "name": "stdout",
     "output_type": "stream",
     "text": [
      "     name          RA         dec    \n",
      "-------------- ---------- -----------\n",
      "b'PKS0048-097'  b'0.8448'  b'-9.4848'\n",
      "b'PKS0113-118'  b'1.2701' b'-11.6043'\n",
      "       b'DA55'  b'1.6163'  b'47.8581'\n",
      "      b'3C66A'  b'2.3777'  b'43.0355'\n",
      " b'AO0235+164'  b'2.6441'  b'16.6165'\n",
      "      b'BQCam'  b'3.5833'  b'53.1732'\n",
      "      b'GKPer'  b'3.5200'  b'43.9043'\n",
      "  b'LSV+44_17'  b'4.6831'  b'44.5304'\n",
      "    b'V518Per'  b'4.3620'  b'32.9082'\n",
      "b'J06074+2205'  b'6.1241'  b'22.0966'\n",
      "           ...        ...         ...\n",
      "      b'SSCyg' b'21.7119'  b'43.5861'\n",
      "      b'BLLac' b'22.0454'  b'42.2778'\n",
      "     b'CygX-2' b'21.7448'  b'38.3214'\n",
      "b'PKS2144+092' b'21.7861'   b'9.4963'\n",
      "      b'OX169' b'21.7266'  b'17.7301'\n",
      "b'PKS2201+171' b'22.0575'  b'17.4301'\n",
      "     b'CTA102' b'22.5434'  b'11.7308'\n",
      "    b'3C454.3' b'22.8994'  b'16.1482'\n",
      "b'PKS2325+093' b'23.4593'   b'9.6694'\n",
      "    b'PHL5225' b'22.4945'  b'-8.5485'\n",
      "b'PMN2345-155' b'23.7534' b'-15.9188'\n",
      "Length = 77 rows\n"
     ]
    }
   ],
   "source": [
    "from astropy.table import Table, Column \n",
    "\n",
    "target_table = Table([target_name, target_RA, target_dec], \n",
    "                     names = ('name', 'RA', 'dec'))\n",
    "print(target_table)"
   ]
  },
  {
   "cell_type": "code",
   "execution_count": 6,
   "metadata": {
    "collapsed": false
   },
   "outputs": [
    {
     "name": "stdout",
     "output_type": "stream",
     "text": [
      "0\n"
     ]
    }
   ],
   "source": [
    "for file in fits_files:\n",
    "    break"
   ]
  }
 ],
 "metadata": {
  "kernelspec": {
   "display_name": "Python 3",
   "language": "python",
   "name": "python3"
  },
  "language_info": {
   "codemirror_mode": {
    "name": "ipython",
    "version": 3
   },
   "file_extension": ".py",
   "mimetype": "text/x-python",
   "name": "python",
   "nbconvert_exporter": "python",
   "pygments_lexer": "ipython3",
   "version": "3.4.3"
  }
 },
 "nbformat": 4,
 "nbformat_minor": 0
}
