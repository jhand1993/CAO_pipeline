{
 "cells": [
  {
   "cell_type": "code",
   "execution_count": 5,
   "metadata": {
    "collapsed": false,
    "scrolled": false
   },
   "outputs": [
    {
     "name": "stdout",
     "output_type": "stream",
     "text": [
      "Enter Directory: /Users/jaredhand/Documents/\n",
      "['BLLac-001B.fit', 'BLLac-001V.fit', 'BLLac-005B.fit', 'BLLac-005V.fit', 'coadd.fits', 'coadd.weight.fits', 'M31-001B.fit', 'M31-001V.fit', 'M31-002I.fit', 'OJ 425-001B.fit']\n"
     ]
    }
   ],
   "source": [
    "import os\n",
    "import glob\n",
    "\n",
    "def check_files(user_input):   \n",
    "    \"\"\"\n",
    "    Checks to make sure given directory is a valid directory.\n",
    "    \"\"\"\n",
    "    try:\n",
    "        os.path.exists(user_input)\n",
    "        return True\n",
    "    except:       \n",
    "        return False\n",
    "    \n",
    "directory = input(\"Enter Directory: \")\n",
    "data_files = []\n",
    "\n",
    "if check_files(directory) == True:\n",
    "    os.chdir(directory)\n",
    "    data_files = glob.glob(\"*.fit*\")\n",
    "else:\n",
    "    print(\"Invalid directory. Please try again.\")\n",
    "\n",
    "print(data_files)\n"
   ]
  },
  {
   "cell_type": "code",
   "execution_count": null,
   "metadata": {
    "collapsed": true
   },
   "outputs": [],
   "source": []
  },
  {
   "cell_type": "code",
   "execution_count": 6,
   "metadata": {
    "collapsed": true
   },
   "outputs": [],
   "source": [
    "for file in data_files:\n",
    "    break"
   ]
  },
  {
   "cell_type": "code",
   "execution_count": 6,
   "metadata": {
    "collapsed": false
   },
   "outputs": [
    {
     "name": "stdout",
     "output_type": "stream",
     "text": [
      "0\n"
     ]
    }
   ],
   "source": [
    "import os \n",
    "print(os.system(\"ls\"))"
   ]
  }
 ],
 "metadata": {
  "kernelspec": {
   "display_name": "Python 3",
   "language": "python",
   "name": "python3"
  },
  "language_info": {
   "codemirror_mode": {
    "name": "ipython",
    "version": 3
   },
   "file_extension": ".py",
   "mimetype": "text/x-python",
   "name": "python",
   "nbconvert_exporter": "python",
   "pygments_lexer": "ipython3",
   "version": "3.4.3"
  }
 },
 "nbformat": 4,
 "nbformat_minor": 0
}
