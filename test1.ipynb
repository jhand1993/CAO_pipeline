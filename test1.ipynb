{
 "cells": [
  {
   "cell_type": "code",
   "execution_count": 1,
   "metadata": {
    "collapsed": false,
    "scrolled": false
   },
   "outputs": [
    {
     "name": "stdout",
     "output_type": "stream",
     "text": [
      "Enter Directory: /\n"
     ]
    }
   ],
   "source": [
    "import os\n",
    "import glob\n",
    "import numpy\n",
    "from astropy.table import Table, Column \n",
    "\n",
    "data_files = []\n",
    "\n",
    "def check_files(user_input):   \n",
    "    \"\"\"\n",
    "    Checks to make sure given directory is a valid directory.  \n",
    "    If directory exists, returns list of .fits files.\n",
    "    \"\"\"\n",
    "    if os.path.exists(user_input) == True:\n",
    "        os.chdir(directory)\n",
    "        data_files = glob.glob(\"*.fit*\")\n",
    "        return data_files\n",
    "    else:\n",
    "        print(\"Invalid directory. Please try again.\") \n",
    "        return False   \n",
    "\n",
    "while True:\n",
    "    directory = input(\"Enter Directory: \")   \n",
    "    fits_files = check_files(directory)\n",
    "    if fits_files != False:\n",
    "        break\n",
    "\n",
    "#print(fits_files)"
   ]
  },
  {
   "cell_type": "code",
   "execution_count": 2,
   "metadata": {
    "collapsed": false
   },
   "outputs": [],
   "source": [
    "target_data = numpy.loadtxt(fname='/Users/jaredhand/Documents/Automation Project/Automation_Project/target_data.txt',\n",
    "                            dtype=bytes,\n",
    "                            delimiter=',')\n",
    "\n",
    "def bytes_to_str(list_input):\n",
    "    \"\"\"\n",
    "    Converts data type of imported array elements from \n",
    "    bytes to string.\n",
    "    \"\"\"\n",
    "    for i in range(len(list_input)):\n",
    "        x = list_input[i].decode('utf-8')\n",
    "        list_input[i] = x\n",
    "    return list_input\n",
    "\n",
    "target_name = target_data[:,0].tolist()\n",
    "target_RA = target_data[:,1].tolist()\n",
    "target_dec = target_data[:,2].tolist()\n",
    "\n",
    "target_name = bytes_to_str(target_name)\n",
    "target_RA = bytes_to_str(target_RA)\n",
    "target_dec = bytes_to_str(target_dec)\n",
    "\n",
    "def target_dict(name_list, val_list):\n",
    "    \"\"\"\n",
    "    Takes list of names and list of values and returns a \n",
    "    dictionary with with name_list as dictionary key.\n",
    "    \"\"\"\n",
    "    result = dict(zip(name_list, val_list))\n",
    "    return result\n",
    "\n",
    "RA_dict = target_dict(target_name, target_RA)\n",
    "dec_dict = target_dict(target_name, target_dec)\n"
   ]
  },
  {
   "cell_type": "code",
   "execution_count": 3,
   "metadata": {
    "collapsed": false
   },
   "outputs": [
    {
     "name": "stdout",
     "output_type": "stream",
     "text": [
      "[]\n",
      "None\n"
     ]
    }
   ],
   "source": [
    "script = 'solve-field --use-sextractor --overwrite --downsample 2 --ra %s --dec %s --radius 2 \"%s\"' \n",
    "\n",
    "def coord_lookup(file1, dict1):\n",
    "    \"\"\"\n",
    "    Used in script_loop to relate parsed file name to a given coordinate.\n",
    "    \n",
    "    Parameters:\n",
    "        \n",
    "        file1: string representing filename that will be compared to keys of dict1\n",
    "        dict1: dictionary that is used to lookup coordinates via the keyvalue to file1\n",
    "        \n",
    "    \"\"\"\n",
    "    i = file1.split('-')[0]\n",
    "    no_whitespace = i.replace(' ','')\n",
    "    if no_whitespace in dict1.keys():\n",
    "        try:\n",
    "            coord = dict1.get(no_whitespace)\n",
    "            print(coord)\n",
    "            return(coord)\n",
    "        except:\n",
    "            return(false)\n",
    "\n",
    "def script_loop(files1, dict1, dict2):\n",
    "    \"\"\"\n",
    "    Prints input list of files.  Loops through reach i in files1 and performs coord_lookup with i \n",
    "    with both dict1 and dict2.  From there right ascension is determined by input dict1 and i and \n",
    "    declination by dict2 and i.  ra and dec are modified to be used in check_call method that runs \n",
    "    astrometry.net with given parameters:\n",
    "    \n",
    "        solve-field --use-sextractor --overwrite --downsample <int> --ra <hours>\n",
    "        --dec <degrees> --radius <arcminutes> 'filename'\n",
    "        \n",
    "    Parameters:\n",
    "    \n",
    "        files1: input list of all files in a directory in which to run astrometry.net\n",
    "        dict1: used as a dictionary to determine ra a file in files1\n",
    "        dict2: used as a dictionary to determine dec from a file files1\n",
    "        \n",
    "    \"\"\"\n",
    "    print(files1)\n",
    "    for i in files1:\n",
    "        ra = coord_lookup(i, dict1)\n",
    "        dec = coord_lookup(i, dict2)\n",
    "        try:       \n",
    "            ra_hours = ra.split('.')[0]+':00:00'      \n",
    "            dec_int = dec.split('.')[0]\n",
    "            print(script %(ra_hours, dec_int, i))\n",
    "            check_call([script %(ra_hours, dec_int, i)], shell=True)\n",
    "            print('Success for file '+i)            \n",
    "        except AttributeError:\n",
    "            print('ERROR: File name: '+i+'  Nonetype exception.  File name does not exist in lookup table')\n",
    "            pass\n",
    "        except:\n",
    "            print(\"ERROR: File name: \"+i+\"  ra: \"+ra_hours+\"  dec: \"+dec_int)\n",
    "\n",
    "print(script_loop(fits_files, RA_dict, dec_dict))\n"
   ]
  },
  {
   "cell_type": "code",
   "execution_count": null,
   "metadata": {
    "collapsed": true
   },
   "outputs": [],
   "source": [
    "target_table = Table([target_name, target_RA, target_dec], \n",
    "                     names = ('name', 'RA', 'dec'))\n",
    "target_table.show_in_browser()"
   ]
  }
 ],
 "metadata": {
  "kernelspec": {
   "display_name": "Python 3",
   "language": "python",
   "name": "python3"
  },
  "language_info": {
   "codemirror_mode": {
    "name": "ipython",
    "version": 3
   },
   "file_extension": ".py",
   "mimetype": "text/x-python",
   "name": "python",
   "nbconvert_exporter": "python",
   "pygments_lexer": "ipython3",
   "version": "3.4.3"
  }
 },
 "nbformat": 4,
 "nbformat_minor": 0
}
