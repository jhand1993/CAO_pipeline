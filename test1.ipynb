{
 "cells": [
  {
   "cell_type": "code",
   "execution_count": 2,
   "metadata": {
    "collapsed": false
   },
   "outputs": [
    {
     "name": "stdout",
     "output_type": "stream",
     "text": [
      "Enter Directory: /Users/\n",
      "['.localized', 'coas-admin', 'dmacomb', 'jaredhand', 'labuser', 'PhysicsLab', 'Shared']\n",
      "[]\n"
     ]
    }
   ],
   "source": [
    "import os, sys\n",
    "files = []\n",
    "directory = \"\"\n",
    "while True:\n",
    "    \"\"\"\n",
    "    Checks to make sure given directory is a valid directory.\n",
    "    \"\"\"\n",
    "    try:\n",
    "        directory = input(\"Enter Directory: \")\n",
    "        files = os.listdir(directory)\n",
    "        break\n",
    "    except:\n",
    "        print(\"Invalid directory. Please try again.\")\n",
    "\n",
    "#print(files)\n",
    "def add_data_files(data_files):  \n",
    "    \"\"\"\n",
    "    Takes user input for system directory and puts all .fit or .fits files into a list.\n",
    "    \n",
    "        Parameters:\n",
    "            data_files: Should be a string.  It is used to define data\n",
    "    \"\"\"    \n",
    "    fit_files = []\n",
    "    for item in data_files:\n",
    "        if os.path.splitext(item)[-1] == \".fit\":\n",
    "            fit_files.append(item)\n",
    "        elif os.path.splitext(item)[-1] == \".fits\":\n",
    "            data_files.remove(item)\n",
    "        else:\n",
    "            data_files.remove(item)\n",
    "    return(fit_files)\n",
    "\n",
    "#print(add_data_files(files))\n",
    "\n",
    "\n"
   ]
  },
  {
   "cell_type": "code",
   "execution_count": 6,
   "metadata": {
    "collapsed": false
   },
   "outputs": [
    {
     "name": "stdout",
     "output_type": "stream",
     "text": [
      "0\n"
     ]
    }
   ],
   "source": [
    "import os \n",
    "print(os.system(\"ls\"))"
   ]
  }
 ],
 "metadata": {
  "kernelspec": {
   "display_name": "Python 3",
   "language": "python",
   "name": "python3"
  },
  "language_info": {
   "codemirror_mode": {
    "name": "ipython",
    "version": 3
   },
   "file_extension": ".py",
   "mimetype": "text/x-python",
   "name": "python",
   "nbconvert_exporter": "python",
   "pygments_lexer": "ipython3",
   "version": "3.4.3"
  }
 },
 "nbformat": 4,
 "nbformat_minor": 0
}
