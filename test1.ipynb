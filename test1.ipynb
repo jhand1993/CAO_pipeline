{
 "cells": [
  {
   "cell_type": "code",
   "execution_count": 7,
   "metadata": {
    "collapsed": false,
    "scrolled": false
   },
   "outputs": [
    {
     "name": "stdout",
     "output_type": "stream",
     "text": [
      "Enter Directory: /\n",
      "[]\n"
     ]
    }
   ],
   "source": [
    "import os\n",
    "import glob\n",
    "import numpy\n",
    "from subprocess import call, check_call\n",
    "\n",
    "data_files = []\n",
    "\n",
    "def check_files(user_input):   \n",
    "    \"\"\"\n",
    "    Checks to make sure given directory is a valid directory.  \n",
    "    If directory exists, returns list of .fits files.\n",
    "    \"\"\"\n",
    "    if os.path.exists(user_input) == True:\n",
    "        os.chdir(directory)\n",
    "        data_files = glob.glob(\"*.fit*\")\n",
    "        return data_files\n",
    "    else:\n",
    "        print(\"Invalid directory. Please try again.\") \n",
    "        return False   \n",
    "\n",
    "while True:\n",
    "    directory = input(\"Enter Directory: \")   \n",
    "    fits_files = check_files(directory)\n",
    "    if fits_files != False:\n",
    "        break\n",
    "\n",
    "print(fits_files)"
   ]
  },
  {
   "cell_type": "code",
   "execution_count": 8,
   "metadata": {
    "collapsed": false
   },
   "outputs": [],
   "source": [
    "target_data = numpy.loadtxt(fname='/Users/jaredhand/Documents/Automation Project/Automation_Project/target_data.txt',\n",
    "                            dtype=bytes,\n",
    "                            delimiter=',')\n",
    "\n",
    "def bytes_to_str(list_input):\n",
    "    \"\"\"\n",
    "    Converts data type of imported array elements from \n",
    "    bytes to string.\n",
    "    \"\"\"\n",
    "    for i in range(len(list_input)):\n",
    "        x = list_input[i].decode('utf-8')\n",
    "        list_input[i] = x\n",
    "    return list_input\n",
    "\n",
    "target_name = target_data[:,0].tolist()\n",
    "target_RA = target_data[:,1].tolist()\n",
    "target_dec = target_data[:,2].tolist()\n",
    "\n",
    "target_name = bytes_to_str(target_name)\n",
    "target_RA = bytes_to_str(target_RA)\n",
    "target_dec = bytes_to_str(target_dec)\n",
    "\n",
    "def target_dict(name_list, val_list):\n",
    "    \"\"\"\n",
    "    Takes list of names and list of values and returns a \n",
    "    dictionary with with name_list as dictionary key.\n",
    "    \"\"\"\n",
    "    result = dict(zip(name_list, val_list))\n",
    "    return result\n",
    "\n",
    "RA_dict = target_dict(target_name, target_RA)\n",
    "#print(RA_dict)\n",
    "dec_dict = target_dict(target_name, target_dec)\n",
    "#print(dec_dict)"
   ]
  },
  {
   "cell_type": "code",
   "execution_count": 11,
   "metadata": {
    "collapsed": false
   },
   "outputs": [],
   "source": [
    "from astropy.table import Table, Column \n",
    "\n",
    "target_table = Table([target_name, target_RA, target_dec], \n",
    "                     names = ('name', 'RA', 'dec'))\n",
    "target_table.show_in_browser()"
   ]
  },
  {
   "cell_type": "code",
   "execution_count": 14,
   "metadata": {
    "collapsed": false
   },
   "outputs": [
    {
     "name": "stdout",
     "output_type": "stream",
     "text": [
      "0\n"
     ]
    }
   ],
   "source": [
    "os.chdir('/Users/jaredhand/Documents/')\n",
    "return_code = check_call('solve-field --dir %--use-sextractor --overwrite --downsample 2 --ra % --dec % --radius 2 %',\n",
    "                         shell=True)\n",
    "print(return_code)"
   ]
  },
  {
   "cell_type": "code",
   "execution_count": null,
   "metadata": {
    "collapsed": true
   },
   "outputs": [],
   "source": []
  }
 ],
 "metadata": {
  "kernelspec": {
   "display_name": "Python 3",
   "language": "python",
   "name": "python3"
  },
  "language_info": {
   "codemirror_mode": {
    "name": "ipython",
    "version": 3
   },
   "file_extension": ".py",
   "mimetype": "text/x-python",
   "name": "python",
   "nbconvert_exporter": "python",
   "pygments_lexer": "ipython3",
   "version": "3.4.3"
  }
 },
 "nbformat": 4,
 "nbformat_minor": 0
}
