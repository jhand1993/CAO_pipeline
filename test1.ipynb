{
 "cells": [
  {
   "cell_type": "code",
   "execution_count": 1,
   "metadata": {
    "collapsed": false,
    "scrolled": false
   },
   "outputs": [
    {
     "name": "stdout",
     "output_type": "stream",
     "text": [
      "Enter Directory: /\n",
      "[]\n"
     ]
    }
   ],
   "source": [
    "import os\n",
    "import glob\n",
    "import numpy\n",
    "\n",
    "data_files = []\n",
    "\n",
    "def check_files(user_input):   \n",
    "    \"\"\"\n",
    "    Checks to make sure given directory is a valid directory.  \n",
    "    If directory exists, returns list of .fits files.\n",
    "    \"\"\"\n",
    "    if os.path.exists(user_input) == True:\n",
    "        os.chdir(directory)\n",
    "        data_files = glob.glob(\"*.fit*\")\n",
    "        return data_files\n",
    "    else:\n",
    "        print(\"Invalid directory. Please try again.\") \n",
    "        return False   \n",
    "\n",
    "while True:\n",
    "    directory = input(\"Enter Directory: \")   \n",
    "    fits_files = check_files(directory)\n",
    "    if fits_files != False:\n",
    "        break\n",
    "\n",
    "print(fits_files)"
   ]
  },
  {
   "cell_type": "code",
   "execution_count": 16,
   "metadata": {
    "collapsed": false
   },
   "outputs": [
    {
     "name": "stdout",
     "output_type": "stream",
     "text": [
      "{'B30650+453': '6.9066', 'PMN2345-155': '23.7534', 'KVUMa': '11.3030', 'PKS2201+171': '22.0575', 'TXS0820+560': '8.4131', '2000+251': '20.0473', 'WCom': '12.3588', 'PKS1502+106': '15.0736', 'PKS0113-118': '1.2701', 'J2012+381': '20.2105', 'J1856+053': '18.9442', '4C+38.41': '16.5876', 'V490Cep': '21.6585', 'Mrk501': '16.8978', 'MXB0656-072': '6.9715', '3C279': '12.9364', 'OJ49': '8.5303', 'OT081': '17.8591', 'OX169': '21.7266', 'J06074+2205': '6.1241', 'J1955+261': '19.9195', 'OJ425': '8.3044', 'AO0235+164': '2.6441', 'J1855-026': '18.9251', 'V518Per': '4.3620', 'PHL5225': '22.4945', 'AqlX-1': '19.1886', 'OJ287': '8.9136', 'BQCam': '3.5833', 'J1946+274': '19.7609', 'TXS1520+319': '15.3702', 'V616Mon': '6.3790', '4U1916-053': '19.3133', 'SSCyg': '21.7119', 'PKS0528+134': '5.5157', 'SerX-1': '18.6660', 'Mrk421': '11.0742', 'GKPer': '3.5200', 'PMN0948+002': '9.8159', 'TXS0716+332': '7.3221', 'CygX-3': '20.5405', 'B21215+30': '12.3016', 'V406Vul': '18.9782', 'V404Cyg': '20.4011', '4U1907+09': '19.1606', 'J1901+014': '19.0281', 'TXS1846+322': '18.8061', 'J19140+0951': '19.2345', '3C454.3': '22.8994', 'J2103+45': '21.0593', 'B21308+32': '13.1746', '3C66A': '2.3777', 'PKS1352-104': '13.9129', 'CygX-2': '21.7448', 'PKS2023-07': '20.4280', 'PMN1016+051': '10.2675', '4U1957+115': '19.9900', 'PKS2325+093': '23.4593', 'PKS1329-049': '13.5346', 'PKS0907+022': '9.1611', '3C273': '12.4852', 'BLLac': '22.0454', 'OT355': '17.5724', 'PKS1510-089': '15.2140', 'J1753.5-0127': '17.8912', 'PKS0048-097': '0.8448', 'DA55': '1.6163', 'CTA102': '22.5434', '1846-031': '18.8214', 'PKS2144+092': '21.7861', 'J1908+094': '19.1479', 'PKS1127-14': '11.5020', 'SS433': '19.1971', 'LSV+44_17': '4.6831', 'V1055Ori': '6.2854', 'PKS1551+130': '15.8924', 'J1357.2-0933': '13.9532'}\n",
      "{'B30650+453': '45.2400', 'PMN2345-155': '-15.9188', 'KVUMa': '48.0368', 'PKS2201+171': '17.4301', 'TXS0820+560': '55.8786', '2000+251': '25.2400', 'WCom': '28.2329', 'PKS1502+106': '10.4942', 'PKS0113-118': '-11.6043', 'J2012+381': '38.1836', 'J1856+053': '5.3304', '4C+38.41': '38.1346', 'V490Cep': '56.9862', 'Mrk501': '39.7601', 'MXB0656-072': '-7.2098', '3C279': '-5.7893', 'OJ49': '4.4942', 'OT081': '9.6502', 'OX169': '17.7301', 'J06074+2205': '22.0966', 'J1955+261': '26.2375', 'OJ425': '42.3794', 'AO0235+164': '16.6165', 'J1855-026': '-2.6046', 'V518Per': '32.9082', 'PHL5225': '-8.5485', 'AqlX-1': '0.5976', 'OJ287': '20.1085', 'BQCam': '53.1732', 'J1946+274': '27.3654', 'TXS1520+319': '31.7453', 'V616Mon': '-0.3456', '4U1916-053': '-5.2386', 'SSCyg': '43.5861', 'PKS0528+134': '13.5319', 'SerX-1': '5.0363', 'Mrk421': '38.2089', 'GKPer': '43.9043', 'PMN0948+002': '0.3739', 'TXS0716+332': '33.1194', 'CygX-3': '40.9578', 'B21215+30': '30.1062', 'V406Vul': '22.6605', 'V404Cyg': '33.8672', '4U1907+09': '9.8303', 'J1901+014': '1.4406', 'TXS1846+322': '32.3174', 'J19140+0951': '9.8827', '3C454.3': '16.1482', 'J2103+45': '45.7600', 'B21308+32': '32.3458', '3C66A': '43.0355', 'PKS1352-104': '-10.6841', 'CygX-2': '38.3214', 'PKS2023-07': '-7.5979', 'PMN1016+051': '5.2172', '4U1957+115': '11.7083', 'PKS2325+093': '9.6694', 'PKS1329-049': '-5.1620', 'PKS0907+022': '2.0015', '3C273': '2.0524', 'BLLac': '42.2778', 'OT355': '38.9643', 'PKS1510-089': '-9.1000', 'J1753.5-0127': '-1.4547', 'PKS0048-097': '-9.4848', 'DA55': '47.8581', 'CTA102': '11.7308', '1846-031': '-3.0608', 'PKS2144+092': '9.4963', 'J1908+094': '9.3842', 'PKS1127-14': '-14.8243', 'SS433': '4.9827', 'LSV+44_17': '44.5304', 'V1055Ori': '9.1371', 'PKS1551+130': '12.9477', 'J1357.2-0933': '-9.5541'}\n"
     ]
    }
   ],
   "source": [
    "target_data = numpy.loadtxt(fname='/Users/jaredhand/Documents/Automation Project/Automation_Project/target_data.txt',\n",
    "                            dtype=bytes,\n",
    "                            delimiter=',')\n",
    "\n",
    "def bytes_to_str(list_input):\n",
    "    \"\"\"\n",
    "    Converts data type of imported array elements from \n",
    "    bytes to string.\n",
    "    \"\"\"\n",
    "    for i in range(len(list_input)):\n",
    "        x = list_input[i].decode('utf-8')\n",
    "        list_input[i] = x\n",
    "    return list_input\n",
    "\n",
    "target_name = target_data[:,0].tolist()\n",
    "target_RA = target_data[:,1].tolist()\n",
    "target_dec = target_data[:,2].tolist()\n",
    "\n",
    "target_name = bytes_to_str(target_name)\n",
    "target_RA = bytes_to_str(target_RA)\n",
    "target_dec = bytes_to_str(target_dec)\n",
    "\n",
    "def target_dict(name_list, val_list):\n",
    "    \"\"\"\n",
    "    Takes list of names and list of values and returns a \n",
    "    dictionary with with name_list as dictionary key.\n",
    "    \"\"\"\n",
    "    result = dict(zip(name_list, val_list))\n",
    "    return result\n",
    "\n",
    "RA_dict = target_dict(target_name, target_RA)\n",
    "print(RA_dict)\n",
    "dec_dict = target_dict(target_name, target_dec)\n",
    "print(dec_dict)"
   ]
  },
  {
   "cell_type": "code",
   "execution_count": 13,
   "metadata": {
    "collapsed": false
   },
   "outputs": [
    {
     "name": "stdout",
     "output_type": "stream",
     "text": [
      "     name          RA         dec    \n",
      "-------------- ---------- -----------\n",
      "b'PKS0048-097'  b'0.8448'  b'-9.4848'\n",
      "b'PKS0113-118'  b'1.2701' b'-11.6043'\n",
      "       b'DA55'  b'1.6163'  b'47.8581'\n",
      "      b'3C66A'  b'2.3777'  b'43.0355'\n",
      " b'AO0235+164'  b'2.6441'  b'16.6165'\n",
      "      b'BQCam'  b'3.5833'  b'53.1732'\n",
      "      b'GKPer'  b'3.5200'  b'43.9043'\n",
      "  b'LSV+44_17'  b'4.6831'  b'44.5304'\n",
      "    b'V518Per'  b'4.3620'  b'32.9082'\n",
      "b'J06074+2205'  b'6.1241'  b'22.0966'\n",
      "           ...        ...         ...\n",
      "      b'SSCyg' b'21.7119'  b'43.5861'\n",
      "      b'BLLac' b'22.0454'  b'42.2778'\n",
      "     b'CygX-2' b'21.7448'  b'38.3214'\n",
      "b'PKS2144+092' b'21.7861'   b'9.4963'\n",
      "      b'OX169' b'21.7266'  b'17.7301'\n",
      "b'PKS2201+171' b'22.0575'  b'17.4301'\n",
      "     b'CTA102' b'22.5434'  b'11.7308'\n",
      "    b'3C454.3' b'22.8994'  b'16.1482'\n",
      "b'PKS2325+093' b'23.4593'   b'9.6694'\n",
      "    b'PHL5225' b'22.4945'  b'-8.5485'\n",
      "b'PMN2345-155' b'23.7534' b'-15.9188'\n",
      "Length = 77 rows\n"
     ]
    }
   ],
   "source": [
    "from astropy.table import Table, Column \n",
    "\n",
    "target_table = Table([target_name, target_RA, target_dec], \n",
    "                     names = ('name', 'RA', 'dec'))\n",
    "print(target_table)"
   ]
  },
  {
   "cell_type": "code",
   "execution_count": 6,
   "metadata": {
    "collapsed": false
   },
   "outputs": [
    {
     "name": "stdout",
     "output_type": "stream",
     "text": [
      "0\n"
     ]
    }
   ],
   "source": [
    "for file in fits_files:\n",
    "    break"
   ]
  }
 ],
 "metadata": {
  "kernelspec": {
   "display_name": "Python 3",
   "language": "python",
   "name": "python3"
  },
  "language_info": {
   "codemirror_mode": {
    "name": "ipython",
    "version": 3
   },
   "file_extension": ".py",
   "mimetype": "text/x-python",
   "name": "python",
   "nbconvert_exporter": "python",
   "pygments_lexer": "ipython3",
   "version": "3.4.3"
  }
 },
 "nbformat": 4,
 "nbformat_minor": 0
}
