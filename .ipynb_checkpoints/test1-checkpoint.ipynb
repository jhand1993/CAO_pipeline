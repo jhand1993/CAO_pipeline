{
 "cells": [
  {
   "cell_type": "code",
   "execution_count": 1,
   "metadata": {
    "collapsed": false,
    "scrolled": false
   },
   "outputs": [
    {
     "name": "stdout",
     "output_type": "stream",
     "text": [
      "Enter Directory: s\n",
      "Invalid directory. Please try again.\n"
     ]
    },
    {
     "data": {
      "text/plain": [
       "False"
      ]
     },
     "execution_count": 1,
     "metadata": {},
     "output_type": "execute_result"
    }
   ],
   "source": [
    "import os, sys, glob\n",
    "directory = input(\"Enter Directory: \")\n",
    "def get_files(user_input):   \n",
    "    \"\"\"\n",
    "    Checks to make sure given directory is a valid directory.\n",
    "    \"\"\"\n",
    "    try:\n",
    "        os.chdir(user_input)\n",
    "        return(glob.glob(\"*.fit*\"))\n",
    "    except:\n",
    "        print(\"Invalid directory. Please try again.\")\n",
    "        return False\n",
    "    \n",
    "get_files(directory)\n"
   ]
  },
  {
   "cell_type": "code",
   "execution_count": 6,
   "metadata": {
    "collapsed": false
   },
   "outputs": [
    {
     "name": "stdout",
     "output_type": "stream",
     "text": [
      "0\n"
     ]
    }
   ],
   "source": [
    "import os \n",
    "print(os.system(\"ls\"))"
   ]
  }
 ],
 "metadata": {
  "kernelspec": {
   "display_name": "Python 3",
   "language": "python",
   "name": "python3"
  },
  "language_info": {
   "codemirror_mode": {
    "name": "ipython",
    "version": 3
   },
   "file_extension": ".py",
   "mimetype": "text/x-python",
   "name": "python",
   "nbconvert_exporter": "python",
   "pygments_lexer": "ipython3",
   "version": "3.4.3"
  }
 },
 "nbformat": 4,
 "nbformat_minor": 0
}
