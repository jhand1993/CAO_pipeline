{
 "cells": [
  {
   "cell_type": "code",
   "execution_count": 1,
   "metadata": {
    "collapsed": false,
    "scrolled": false
   },
   "outputs": [
    {
     "name": "stdout",
     "output_type": "stream",
     "text": [
      "Enter Directory: /\n",
      "[]\n"
     ]
    }
   ],
   "source": [
    "import os\n",
    "import glob\n",
    "import numpy\n",
    "\n",
    "data_files = []\n",
    "\n",
    "def check_files(user_input):   \n",
    "    \"\"\"\n",
    "    Checks to make sure given directory is a valid directory.  \n",
    "    If directory exists, returns list of .fits files.\n",
    "    \"\"\"\n",
    "    if os.path.exists(user_input) == True:\n",
    "        os.chdir(directory)\n",
    "        data_files = glob.glob(\"*.fit*\")\n",
    "        return data_files\n",
    "    else:\n",
    "        print(\"Invalid directory. Please try again.\") \n",
    "        return False   \n",
    "\n",
    "while True:\n",
    "    directory = input(\"Enter Directory: \")   \n",
    "    fits_files = check_files(directory)\n",
    "    if fits_files != False:\n",
    "        break\n",
    "\n",
    "print(fits_files)"
   ]
  },
  {
   "cell_type": "code",
   "execution_count": 11,
   "metadata": {
    "collapsed": false
   },
   "outputs": [],
   "source": [
    "target_data = numpy.loadtxt(fname='/Users/jaredhand/Documents/Automation Project/Automation_Project/target_data.txt',\n",
    "                            dtype = str, \n",
    "                            delimiter = ',')\n",
    "\n",
    "target_name = target_data[:,0]\n",
    "target_RA = target_data[:,1]\n",
    "target_dec = target_data[:,2]\n",
    "\n",
    "def target_dict(name_list, val_list):\n",
    "    \"\"\"\n",
    "    Takes list of names and list of values and returns a dictionary with with name_list as\n",
    "    dictionary key.\n",
    "    \"\"\"\n",
    "    result = dict(zip(name_list, val_list))\n",
    "    return result\n",
    "\n",
    "RA_dict = target_dict(target_name, target_RA)\n",
    "dec_dict = target_dict(target_name, target_dec)"
   ]
  },
  {
   "cell_type": "code",
   "execution_count": 13,
   "metadata": {
    "collapsed": false
   },
   "outputs": [
    {
     "name": "stdout",
     "output_type": "stream",
     "text": [
      "     name          RA         dec    \n",
      "-------------- ---------- -----------\n",
      "b'PKS0048-097'  b'0.8448'  b'-9.4848'\n",
      "b'PKS0113-118'  b'1.2701' b'-11.6043'\n",
      "       b'DA55'  b'1.6163'  b'47.8581'\n",
      "      b'3C66A'  b'2.3777'  b'43.0355'\n",
      " b'AO0235+164'  b'2.6441'  b'16.6165'\n",
      "      b'BQCam'  b'3.5833'  b'53.1732'\n",
      "      b'GKPer'  b'3.5200'  b'43.9043'\n",
      "  b'LSV+44_17'  b'4.6831'  b'44.5304'\n",
      "    b'V518Per'  b'4.3620'  b'32.9082'\n",
      "b'J06074+2205'  b'6.1241'  b'22.0966'\n",
      "           ...        ...         ...\n",
      "      b'SSCyg' b'21.7119'  b'43.5861'\n",
      "      b'BLLac' b'22.0454'  b'42.2778'\n",
      "     b'CygX-2' b'21.7448'  b'38.3214'\n",
      "b'PKS2144+092' b'21.7861'   b'9.4963'\n",
      "      b'OX169' b'21.7266'  b'17.7301'\n",
      "b'PKS2201+171' b'22.0575'  b'17.4301'\n",
      "     b'CTA102' b'22.5434'  b'11.7308'\n",
      "    b'3C454.3' b'22.8994'  b'16.1482'\n",
      "b'PKS2325+093' b'23.4593'   b'9.6694'\n",
      "    b'PHL5225' b'22.4945'  b'-8.5485'\n",
      "b'PMN2345-155' b'23.7534' b'-15.9188'\n",
      "Length = 77 rows\n"
     ]
    }
   ],
   "source": [
    "from astropy.table import Table, Column \n",
    "\n",
    "target_table = Table([target_name, target_RA, target_dec], \n",
    "                     names = ('name', 'RA', 'dec'))\n",
    "print(target_table)"
   ]
  },
  {
   "cell_type": "code",
   "execution_count": 6,
   "metadata": {
    "collapsed": false
   },
   "outputs": [
    {
     "name": "stdout",
     "output_type": "stream",
     "text": [
      "0\n"
     ]
    }
   ],
   "source": [
    "for file in fits_files:\n",
    "    break"
   ]
  }
 ],
 "metadata": {
  "kernelspec": {
   "display_name": "Python 3",
   "language": "python",
   "name": "python3"
  },
  "language_info": {
   "codemirror_mode": {
    "name": "ipython",
    "version": 3
   },
   "file_extension": ".py",
   "mimetype": "text/x-python",
   "name": "python",
   "nbconvert_exporter": "python",
   "pygments_lexer": "ipython3",
   "version": "3.4.3"
  }
 },
 "nbformat": 4,
 "nbformat_minor": 0
}
